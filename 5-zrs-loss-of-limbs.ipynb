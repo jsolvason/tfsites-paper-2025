{
 "cells": [
  {
   "cell_type": "code",
   "execution_count": 3,
   "id": "09e9da56-01b4-4942-b61f-ace15d401bd2",
   "metadata": {},
   "outputs": [],
   "source": [
    "import tfsites_2025_07_30 as tf\n",
    "import pandas as pd"
   ]
  },
  {
   "cell_type": "markdown",
   "id": "fbdc299b-1bff-4de7-ba17-9cf441aa7da8",
   "metadata": {},
   "source": [
    "# Compare seqs run as pwm"
   ]
  },
  {
   "cell_type": "code",
   "execution_count": 8,
   "id": "e45870f2-58d2-4e65-b260-fa12549b7a95",
   "metadata": {},
   "outputs": [
    {
     "name": "stdout",
     "output_type": "stream",
     "text": [
      "trimming alignments...\n",
      "Scanning sites for cores...\n",
      "Scanning sites for pwms...\n",
      "0%, 21%, 42%, 63%, 84%, map sites across enhancers...\n",
      "prioritize gof and lof...\n",
      "done!\n",
      "[HTML] 70 hits for abl are detected... starting now...\n",
      "loading pwm and affinity reference files... and plotting site id scores...\n",
      "extracting pfms...\n",
      "visualize scores for site ids...\n",
      "generate kmer images...\n",
      "0.0%, 2.86%, 5.71%, 8.57%, 11.43%, 14.29%, 17.14%, 20.0%, 22.86%, 25.71%, 28.57%, 31.43%, 34.29%, 37.14%, 40.0%, 42.86%, 45.71%, 48.57%, 51.43%, 54.29%, 57.14%, 60.0%, 62.86%, 65.71%, 68.57%, 71.43%, 74.29%, 77.14%, 80.0%, 82.86%, 85.71%, 88.57%, 91.43%, 94.29%, 97.14%, generate html...\n",
      "[HTML] 11 hits for dec are detected... starting now...\n",
      "loading pwm and affinity reference files... and plotting site id scores...\n",
      "extracting pfms...\n",
      "visualize scores for site ids...\n",
      "generate kmer images...\n",
      "0.0%, 18.18%, 36.36%, 54.55%, 72.73%, 90.91%, generate html...\n"
     ]
    }
   ],
   "source": [
    "\n",
    "tf.compare_seqs_wrapper(\n",
    "    enhancer_dna_alignment_table='5-zrs-loss-of-limbs/compare-seqs-inputs/zrs-msa.tsv',\n",
    "    enhancer_functional_group_table='5-zrs-loss-of-limbs/compare-seqs-inputs/groups.tsv',\n",
    "    tf_affinity_information=None,\n",
    "    pwm_input='0-define-tf-sites/PWMs-E9.5-Forelimb-Jaspar-Posterior.txt',\n",
    "    isAlreadyPwm=False,\n",
    "    isFraction=False,\n",
    "    pseudocounts=False,\n",
    "    minimum_binding_change=0.1,\n",
    "    minimum_pwm_score=0.8,\n",
    "    hypothesis='lof',\n",
    "    betaPwm=False,\n",
    "    output_name='zrs-loss-of-limbs',\n",
    "    outdir='5-zrs-loss-of-limbs/compare-seqs-outputs-pwm/',\n",
    "    pwm_file_format='jaspar')"
   ]
  },
  {
   "cell_type": "markdown",
   "id": "5f482009-76a1-40a8-b494-5dd82911708f",
   "metadata": {},
   "source": [
    "# Followup with pbm run"
   ]
  },
  {
   "cell_type": "code",
   "execution_count": 7,
   "id": "7d3c7338-ad64-4cff-a661-a2112debbbd1",
   "metadata": {},
   "outputs": [
    {
     "name": "stdout",
     "output_type": "stream",
     "text": [
      "trimming alignments...\n",
      "Scanning sites for cores...\n",
      "Scanning sites for pwms...\n",
      "map sites across enhancers...\n",
      "prioritize gof and lof...\n",
      "done!\n",
      "[HTML] no abl are detected... skipping...\n",
      "loading pwm and affinity reference files... and plotting site id scores...\n",
      "extracting pfms...\n",
      "visualize scores for site ids...\n",
      "generate kmer images...\n",
      "generate html...\n",
      "[HTML] 4 hits for dec are detected... starting now...\n",
      "loading pwm and affinity reference files... and plotting site id scores...\n",
      "extracting pfms...\n",
      "visualize scores for site ids...\n",
      "generate kmer images...\n",
      "0.0%, 50.0%, generate html...\n"
     ]
    }
   ],
   "source": [
    "tfdf=pd.read_csv('5-zrs-loss-of-limbs/compare-seqs-inputs/pbm-data.tsv',sep='\\t')\n",
    "\n",
    "tf.compare_seqs_wrapper(\n",
    "    enhancer_dna_alignment_table='5-zrs-loss-of-limbs/compare-seqs-inputs/zrs-msa.tsv',\n",
    "    enhancer_functional_group_table='5-zrs-loss-of-limbs/compare-seqs-inputs/groups.tsv',\n",
    "    tf_affinity_information=tfdf,\n",
    "    pwm_input=None,\n",
    "    isAlreadyPwm=False,\n",
    "    isFraction=False,\n",
    "    pseudocounts=False,\n",
    "    minimum_binding_change=0.1,\n",
    "    minimum_pwm_score=0.8,\n",
    "    hypothesis='lof',\n",
    "    betaPwm=False,\n",
    "    output_name='zrs-loss-of-limbs',\n",
    "    outdir='5-zrs-loss-of-limbs//compare-seqs-outputs-pwm/',\n",
    "    pwm_file_format='jaspar')"
   ]
  }
 ],
 "metadata": {
  "kernelspec": {
   "display_name": "Python 3 (ipykernel)",
   "language": "python",
   "name": "python3"
  },
  "language_info": {
   "codemirror_mode": {
    "name": "ipython",
    "version": 3
   },
   "file_extension": ".py",
   "mimetype": "text/x-python",
   "name": "python",
   "nbconvert_exporter": "python",
   "pygments_lexer": "ipython3",
   "version": "3.12.2"
  }
 },
 "nbformat": 4,
 "nbformat_minor": 5
}
