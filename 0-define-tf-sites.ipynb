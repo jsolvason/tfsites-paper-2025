{
 "cells": [
  {
   "cell_type": "code",
   "execution_count": 1,
   "id": "b79eba6a-5407-44ab-b8bd-bf80c55e1233",
   "metadata": {},
   "outputs": [],
   "source": [
    "import tfsites as tf"
   ]
  },
  {
   "cell_type": "code",
   "execution_count": 2,
   "id": "3d0ea464-b99f-4138-80dc-114468eb675f",
   "metadata": {},
   "outputs": [],
   "source": [
    "outdir='0-define-tf-sites/'"
   ]
  },
  {
   "cell_type": "code",
   "execution_count": 3,
   "id": "fbdfa5ab-8449-4127-9b1b-fc9cb4dae3c0",
   "metadata": {},
   "outputs": [
    {
     "name": "stdout",
     "output_type": "stream",
     "text": [
      "Warning: The following 4 k-mers that do not follow the binding site definition have a higher affinity than the k-mer calculated to have the highest relative affinity: AGATAAGA, AGATAAGG, TCTTATCT, CCTTATCT\n",
      "0-define-tf-sites/GATA_histogram.png has been created\n",
      "0-define-tf-sites/GATA_table.tsv has been created\n"
     ]
    }
   ],
   "source": [
    "#GATA\n",
    "raw_aff_data='0-define-tf-sites/input-pbm-files/Gata6_3769_contig8mers_13.txt'\n",
    "column_of_kmers=1\n",
    "column_of_values=3\n",
    "header_present=False\n",
    "binding_site_definition='NNGATWNN'\n",
    "output_name='GATA'\n",
    "\n",
    "tf.normalizeTfDnaAffinityData(\n",
    "    raw_aff_data,\n",
    "    column_of_kmers,\n",
    "    column_of_values,\n",
    "    header_present,\n",
    "    binding_site_definition,\n",
    "    define_highest_relative_affinity_sequence=None,\n",
    "    report_sites_only=False,\n",
    "    plot_resolution=200,\n",
    "    output_svg=False,\n",
    "    output_name=output_name,\n",
    "    out_directory=outdir,\n",
    ")"
   ]
  },
  {
   "cell_type": "code",
   "execution_count": 4,
   "id": "7ca1436a-b9b1-4664-89b5-3f145bfa7c32",
   "metadata": {},
   "outputs": [
    {
     "name": "stdout",
     "output_type": "stream",
     "text": [
      "0-define-tf-sites/ETS_histogram.png has been created\n",
      "0-define-tf-sites/ETS_table.tsv has been created\n"
     ]
    }
   ],
   "source": [
    "#ETS\n",
    "raw_aff_data='0-define-tf-sites/input-pbm-files/Ets1_8mers_14.txt'\n",
    "column_of_kmers=1\n",
    "column_of_values=4\n",
    "header_present=False\n",
    "binding_site_definition='NNGGANNN'\n",
    "output_name='ETS'\n",
    "\n",
    "tf.normalizeTfDnaAffinityData(\n",
    "    raw_aff_data,\n",
    "    column_of_kmers,\n",
    "    column_of_values,\n",
    "    header_present,\n",
    "    binding_site_definition,\n",
    "    define_highest_relative_affinity_sequence=None,\n",
    "    report_sites_only=False,\n",
    "    plot_resolution=200,\n",
    "    output_svg=False,\n",
    "    output_name=output_name,\n",
    "    out_directory=outdir,\n",
    ")"
   ]
  },
  {
   "cell_type": "code",
   "execution_count": 5,
   "id": "4b86ece8-27b4-468d-9315-2fa0da3720c3",
   "metadata": {},
   "outputs": [
    {
     "name": "stdout",
     "output_type": "stream",
     "text": [
      "0-define-tf-sites/LHX_histogram.png has been created\n",
      "0-define-tf-sites/LHX_table.tsv has been created\n"
     ]
    }
   ],
   "source": [
    "#LHX2/MSX1\n",
    "raw_aff_data='0-define-tf-sites/input-pbm-files/Lhx2_0953.2_contig8mers_14h.txt'\n",
    "column_of_kmers=1\n",
    "column_of_values=4\n",
    "header_present=True\n",
    "binding_site_definition='NYAATNRN'\n",
    "output_name='LHX'\n",
    "\n",
    "tf.normalizeTfDnaAffinityData(\n",
    "    raw_aff_data,\n",
    "    column_of_kmers,\n",
    "    column_of_values,\n",
    "    header_present,\n",
    "    binding_site_definition,\n",
    "    define_highest_relative_affinity_sequence=None,\n",
    "    report_sites_only=False,\n",
    "    plot_resolution=200,\n",
    "    output_svg=False,\n",
    "    output_name=output_name,\n",
    "    out_directory=outdir,\n",
    ")"
   ]
  },
  {
   "cell_type": "code",
   "execution_count": 6,
   "id": "6cc41940-248d-4665-b103-b431ff86a444",
   "metadata": {},
   "outputs": [
    {
     "name": "stdout",
     "output_type": "stream",
     "text": [
      "Warning: The following 7 k-mers that do not follow the binding site definition have a higher affinity than the k-mer calculated to have the highest relative affinity: ATCAATCA, ATTTGATG, TCAATCAA, TGACGTCA, TGATTGAT, CATCAAAT, TTGATTGA\n",
      "0-define-tf-sites/Pbx_histogram.png has been created\n",
      "0-define-tf-sites/Pbx_table.tsv has been created\n"
     ]
    }
   ],
   "source": [
    "#PBX\n",
    "raw_aff_data='0-define-tf-sites/input-pbm-files/Pbx1_3203.1_contig8mers_14h.txt'\n",
    "column_of_kmers=1\n",
    "column_of_values=4\n",
    "header_present=True\n",
    "binding_site_definition='NNNTCWNN'\n",
    "output_name='Pbx'\n",
    "\n",
    "tf.normalizeTfDnaAffinityData(\n",
    "    raw_aff_data,\n",
    "    column_of_kmers,\n",
    "    column_of_values,\n",
    "    header_present,\n",
    "    binding_site_definition,\n",
    "    define_highest_relative_affinity_sequence=None,\n",
    "    report_sites_only=False,\n",
    "    plot_resolution=200,\n",
    "    output_svg=False,\n",
    "    output_name=output_name,\n",
    "    out_directory=outdir,\n",
    ")"
   ]
  },
  {
   "cell_type": "code",
   "execution_count": 7,
   "id": "cd1a76b4-9148-4e49-845b-e3bf9b7f86fb",
   "metadata": {},
   "outputs": [
    {
     "name": "stdout",
     "output_type": "stream",
     "text": [
      "0-define-tf-sites/HOX13_histogram.png has been created\n",
      "0-define-tf-sites/HOX13_table.tsv has been created\n"
     ]
    }
   ],
   "source": [
    "#HOX\n",
    "raw_aff_data='0-define-tf-sites/input-pbm-files/Hoxb13_3479.1_contig8mers_14h.txt'\n",
    "column_of_kmers=1\n",
    "column_of_values=4\n",
    "header_present=True\n",
    "binding_site_definition='NNNTWWAN'\n",
    "output_name='HOX13'\n",
    "\n",
    "tf.normalizeTfDnaAffinityData(\n",
    "    raw_aff_data,\n",
    "    column_of_kmers,\n",
    "    column_of_values,\n",
    "    header_present,\n",
    "    binding_site_definition,\n",
    "    define_highest_relative_affinity_sequence=None,\n",
    "    report_sites_only=False,\n",
    "    plot_resolution=200,\n",
    "    output_svg=False,\n",
    "    output_name=output_name,\n",
    "    out_directory=outdir,\n",
    ")"
   ]
  },
  {
   "cell_type": "code",
   "execution_count": 8,
   "id": "4409ddb2-62fc-4a89-b577-42bca42f3b35",
   "metadata": {},
   "outputs": [
    {
     "name": "stdout",
     "output_type": "stream",
     "text": [
      "0-define-tf-sites/E2F_histogram.png has been created\n",
      "0-define-tf-sites/E2F_table.tsv has been created\n"
     ]
    }
   ],
   "source": [
    "#E2F2/4\n",
    "raw_aff_data='0-define-tf-sites/input-pbm-files/E2F2_1022_contig8mers_13.txt'\n",
    "column_of_kmers=1\n",
    "column_of_values=3\n",
    "header_present=True\n",
    "binding_site_definition='NCSCGCGN'\n",
    "output_name='E2F'\n",
    "\n",
    "tf.normalizeTfDnaAffinityData(\n",
    "    raw_aff_data,\n",
    "    column_of_kmers,\n",
    "    column_of_values,\n",
    "    header_present,\n",
    "    binding_site_definition,\n",
    "    define_highest_relative_affinity_sequence=None,\n",
    "    report_sites_only=False,\n",
    "    plot_resolution=200,\n",
    "    output_svg=False,\n",
    "    output_name=output_name,\n",
    "    out_directory=outdir,\n",
    ")"
   ]
  }
 ],
 "metadata": {
  "kernelspec": {
   "display_name": "Python 3 (ipykernel)",
   "language": "python",
   "name": "python3"
  },
  "language_info": {
   "codemirror_mode": {
    "name": "ipython",
    "version": 3
   },
   "file_extension": ".py",
   "mimetype": "text/x-python",
   "name": "python",
   "nbconvert_exporter": "python",
   "pygments_lexer": "ipython3",
   "version": "3.12.2"
  }
 },
 "nbformat": 4,
 "nbformat_minor": 5
}
